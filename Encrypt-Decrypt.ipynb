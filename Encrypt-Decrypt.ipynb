{
 "cells": [
  {
   "cell_type": "markdown",
   "metadata": {},
   "source": [
    "# Applying Convolutional Neural Networks to Cryptography for Encryption/Decryption"
   ]
  },
  {
   "cell_type": "markdown",
   "metadata": {},
   "source": [
    "## By Ria Cheruvu"
   ]
  },
  {
   "cell_type": "markdown",
   "metadata": {},
   "source": [
    "To tackle the issue of secure communication, I employed Convolutional Neural Networks (CNNs) for the encryption/decryption (128-bit key) and signing/verification functions. \n",
    "\n",
    "The following ipynb contains the parameter initialization, variable declaration, weight definition, model definition, user input, training, testing, and performance benchmarking against Fernet for encryption/decryption functions. \n",
    "\n",
    "The code is self-explanatory. To run the code, please run the cells in the TensorFlow framework one at a time.\n",
    "\n",
    "Please Note: User input is mandatory to achieve results. \n",
    "\n",
    "I ran the following code through Docker on a Windows 10 Machine with 16 GB RAM and 8-core 3.1 GHz CPU with hyper-threading."
   ]
  },
  {
   "cell_type": "markdown",
   "metadata": {},
   "source": [
    "Import the required packages"
   ]
  },
  {
   "cell_type": "code",
   "execution_count": 1,
   "metadata": {
    "collapsed": false
   },
   "outputs": [],
   "source": [
    "import numpy as np\n",
    "import tensorflow as tf\n",
    "import pandas as pd\n",
    "import math\n",
    "import matplotlib.pyplot as plt\n",
    "import seaborn as sns\n",
    "import socket\n",
    "import sys\n",
    "import pickle\n"
   ]
  },
  {
   "cell_type": "markdown",
   "metadata": {},
   "source": [
    "## Parameter Initialization "
   ]
  },
  {
   "cell_type": "markdown",
   "metadata": {},
   "source": [
    "The hyperparameters we are using to tune/experiment with the algorithm"
   ]
  },
  {
   "cell_type": "code",
   "execution_count": 2,
   "metadata": {
    "collapsed": false
   },
   "outputs": [],
   "source": [
    "crypto_msg_len = N = 16\n",
    "crypto_key_len = 16\n",
    "batch_size = 512\n",
    "epochs = 50\n",
    "learning_rate = 0.0008 #Optimizer learning rate\n",
    "\n",
    "# Function to generate n random messages and keys\n",
    "def gen_data(n=batch_size, msg_len=crypto_msg_len, key_len=crypto_key_len):\n",
    "    #return (np.random.randint(0, 2, size=(n, msg_len))*2-1), (np.random.randint(0, 2, size=(n, key_len))*2-1)\n",
    "    return (np.random.randint(0, 2, size=(n, msg_len))), (np.random.randint(0, 2, size=(n, key_len)))\n",
    "\n",
    "\n"
   ]
  },
  {
   "cell_type": "code",
   "execution_count": 3,
   "metadata": {
    "collapsed": false
   },
   "outputs": [],
   "source": [
    "def conv1d(input_, filter_shape, stride, name=\"conv1d\"):\n",
    "    with tf.variable_scope(name):\n",
    "        w = tf.get_variable('w', shape=filter_shape, initializer=tf.contrib.layers.xavier_initializer())\n",
    "        conv = tf.nn.conv1d(input_, w, stride, padding='SAME')\n",
    "        return conv"
   ]
  },
  {
   "cell_type": "markdown",
   "metadata": {},
   "source": [
    "## Neural Cryptography Model definition"
   ]
  },
  {
   "cell_type": "markdown",
   "metadata": {},
   "source": [
    "The implementation of “secure communication” can be described as follows: Generation of the key, the encryption/decryption algorithm, sending the message (platform). An example scenario is as follows: The goal is for Alice to send a message to Bob, and Eve, a party trying to hack into Alice and Bob’s communication, to be unable to read the message. Alice takes a message (plain text) and uses the key she shares with Bob to encrypt plain text into cipher text. This cipher text is sent to Bob, who consumes the communication and key, and decrypts the cipher text into plain text. Eve intercepts the communication of the cipher text, and attempts to recover the plaintext with no knowledge of the keys and in some cases, the encryption algorithm."
   ]
  },
  {
   "cell_type": "markdown",
   "metadata": {},
   "source": [
    "To create the original algorithm, I modified adopted code from Liam Schoneveld and GitHub user ankeshanand  to include the convolutional layers and experimented with the parameters by changing the learning rate of the optimizer, the epochs for training and testing, the initial weights, etc. I used the TensorFlow framework and abandoned implementation with the Theano framework, due to lack of CPU optimization libraries on Windows 10; NCA has been implemented in Theano, TensorFlow, and regular python framework by different authors, however, the base algorithm remains the same. I ran the following code through Docker on a Windows 10 Machine with 16 GB RAM and 8-core 3.1 GHz CPU with hyper-threading.\n",
    "\n",
    "I experimented with the Adam optimizer, Adagrad optimizer, and Momentum optimizer, which use the loss functions for minimizing error. Next, I designed the UI accompanying the NCA algorithm. The user can enter input in ASCII, which is then converted to binary and structured appropriately in order to be accepted by np.array for both encryption/decryption and signing/verification functions.\n",
    "\n",
    "For socket communication, the user (Alice) types in a plaintext message, which is then encrypted (cipher text) and sent to Bob’s socket. Upon receiving the cipher text, Bob’s shared key is used to decrypt the message and Bob prints out the recovered message.\n",
    "\n",
    "### Adopted from <cite>\"Learning to Protect Communications with Adversarial Neural Cryptography\" by Abadi, M & Andersen, D.</cite><br/><cite>https://nlml.github.io/neural-networks/adversarial-neural-cryptography/</cite><br/><cite> https://github.com/ankeshanand/neural-cryptography-tensorflow</cite> "
   ]
  },
  {
   "cell_type": "code",
   "execution_count": 4,
   "metadata": {
    "collapsed": false
   },
   "outputs": [],
   "source": [
    "# Placeholder variables for Message and Key\n",
    "msg = tf.placeholder(\"float\", [None, crypto_msg_len])\n",
    "key = tf.placeholder(\"float\", [None, crypto_key_len])\n",
    "\n",
    "# Weights for fully connected layers\n",
    "w_alice = tf.get_variable(\"alice_w\", shape=[2 * N, 2 * N], initializer=tf.contrib.layers.xavier_initializer())\n",
    "w_bob = tf.get_variable(\"bob_w\", shape=[2 * N, 2 * N], initializer=tf.contrib.layers.xavier_initializer())\n",
    "w_eve1 = tf.get_variable(\"eve_w1\", shape=[N, 2 * N], initializer=tf.contrib.layers.xavier_initializer())\n",
    "w_eve2 = tf.get_variable(\"eve_w2\", shape=[2 * N, 2 * N], initializer=tf.contrib.layers.xavier_initializer())\n",
    "\n",
    "# Alice's Machine Network\n",
    "# FC layer -> Conv Layer (4 1-D convolutions)\n",
    "alice_input = tf.concat(concat_dim=1, values=[msg, key])\n",
    "alice_hidden = tf.nn.sigmoid(tf.matmul(alice_input, w_alice))\n",
    "alice_hidden = tf.expand_dims(alice_hidden, 2)\n",
    "\n",
    "h0 = tf.nn.relu(conv1d(alice_hidden, [4,1,2], stride=1, name=\"alice\"+'_h0_conv'))\n",
    "h1 = tf.nn.relu(conv1d(h0, [2,2,4], stride=2, name=\"alice\"+'_h1_conv'))\n",
    "h2 = tf.nn.relu(conv1d(h1, [1,4,4], stride=1, name=\"alice\"+'_h2_conv'))\n",
    "h3 = tf.nn.tanh(conv1d(h2, [1,4,1], stride=1, name=\"alice\"+'_h3_conv'))\n",
    "alice_output = tf.squeeze(h3) # eliminate dimensions of size 1 from the shape of a tensor\n",
    "\n",
    "# Bob's Machine Network (gets the output (cipher text) of Alice's network)\n",
    "# FC layer -> Conv Layer (4 1-D convolutions)\n",
    "bob_input = tf.concat(concat_dim=1, values=[alice_output, key])\n",
    "bob_hidden = tf.nn.sigmoid(tf.matmul(bob_input, w_bob))\n",
    "bob_hidden = tf.expand_dims(bob_hidden, 2)\n",
    "\n",
    "h0 = tf.nn.relu(conv1d(bob_hidden, [4,1,2], stride=1, name=\"bob\"+'_h0_conv'))\n",
    "h1 = tf.nn.relu(conv1d(h0, [2,2,4], stride=2, name=\"bob\"+'_h1_conv'))\n",
    "h2 = tf.nn.relu(conv1d(h1, [1,4,4], stride=1, name=\"bob\"+'_h2_conv'))\n",
    "h3 = tf.nn.tanh(conv1d(h2, [1,4,1], stride=1, name=\"bob\"+'_h3_conv'))\n",
    "bob_output = tf.squeeze(h3) # eliminate dimensions of size 1 from the shape of a tensor\n",
    "\n",
    "# Eve's Machine Network\n",
    "# FC layer -> FC layer -> Conv Layer (4 1-D convolutions)\n",
    "eve_input = alice_output\n",
    "eve_hidden1 = tf.nn.sigmoid(tf.matmul(eve_input, w_eve1))\n",
    "eve_hidden2 = tf.nn.sigmoid(tf.matmul(eve_hidden1, w_eve2))\n",
    "eve_hidden2 = tf.expand_dims(eve_hidden2, 2)\n",
    "\n",
    "h0 = tf.nn.relu(conv1d(eve_hidden2, [4,1,2], stride=1, name=\"eve\"+'_h0_conv'))\n",
    "h1 = tf.nn.relu(conv1d(h0, [2,2,4], stride=2, name=\"eve\"+'_h1_conv'))\n",
    "h2 = tf.nn.relu(conv1d(h1, [1,4,4], stride=1, name=\"eve\"+'_h2_conv'))\n",
    "h3 = tf.nn.tanh(conv1d(h2, [1,4,1], stride=1, name=\"eve\"+'_h3_conv'))\n",
    "eve_output = tf.squeeze(h3)\n"
   ]
  },
  {
   "cell_type": "markdown",
   "metadata": {},
   "source": [
    "## Neural Cryptography Training"
   ]
  },
  {
   "cell_type": "code",
   "execution_count": 5,
   "metadata": {
    "collapsed": false
   },
   "outputs": [],
   "source": [
    "alice_errors, bob_errors, eve_errors = [], [], []\n",
    "\n",
    "# Loss Functions\n",
    "decrypt_err_eve = tf.reduce_mean(tf.abs(msg - eve_output))\n",
    "decrypt_err_alice = tf.reduce_mean(tf.abs(msg - alice_output))\n",
    "loss_alice = decrypt_err_alice + (1. - decrypt_err_eve) ** 2.\n",
    "decrypt_err_bob = tf.reduce_mean(tf.abs(msg - bob_output))\n",
    "loss_bob = decrypt_err_bob + (1. - decrypt_err_eve) ** 2.\n",
    "\n",
    "# Get training variables corresponding to each network\n",
    "t_vars = tf.trainable_variables()\n",
    "alice_vars = [var for var in t_vars if 'alice_' in var.name]\n",
    "bob_vars =   [var for var in t_vars if 'bob_' in var.name]\n",
    "eve_vars =   [var for var in t_vars if 'eve_' in var.name]\n",
    "\n",
    "# Build the optimizers, can play with different optimizers\n",
    "\n",
    "'''\n",
    "alice_optimizer = tf.train.AdagradOptimizer(learning_rate, initial_accumulator_value=0.1, \n",
    "                       use_locking=False, name='Adagrad').minimize(loss_alice, var_list=alice_vars)\n",
    "bob_optimizer = tf.train.AdagradOptimizer(learning_rate, initial_accumulator_value=0.1, \n",
    "                        use_locking=False, name='Adagrad').minimize(loss_bob, var_list=bob_vars)\n",
    "eve_optimizer = tf.train.AdagradOptimizer(learning_rate, initial_accumulator_value=0.1, \n",
    "                        use_locking=False, name='Adagrad').minimize(decrypt_err_eve, var_list=eve_vars)\n",
    "\n",
    "alice_optimizer = tf.train.MomentumOptimizer(0.01, 0.9).minimize(loss_alice, var_list=alice_vars)   \n",
    "bob_optimizer = tf.train.MomentumOptimizer(0.01, 0.9).minimize(loss_bob, var_list=bob_vars)\n",
    "eve_optimizer = tf.train.MomentumOptimizer(0.01, 0.9).minimize(decrypt_err_eve, var_list=eve_vars)\n",
    "\n",
    "'''\n",
    "alice_optimizer = tf.train.AdamOptimizer(learning_rate).minimize(loss_alice, var_list=alice_vars)   \n",
    "bob_optimizer = tf.train.AdamOptimizer(learning_rate).minimize(loss_bob, var_list=bob_vars)\n",
    "eve_optimizer = tf.train.AdamOptimizer(learning_rate).minimize(decrypt_err_eve, var_list=eve_vars)\n",
    "\n",
    "def train(sess):\n",
    "    # Begin Training\n",
    "    tf.initialize_all_variables().run(session=sess)\n",
    "    for i in range(epochs):\n",
    "        iterations = 2000\n",
    "\n",
    "        alice_loss, _, _ = _train('alice', iterations, sess)\n",
    "        alice_errors.append(alice_loss)\n",
    "        print( 'Training Alice, Epoch:', i + 1, ' error: ', alice_loss)\n",
    "\n",
    "        _, bob_loss, _ = _train('bob', iterations, sess)\n",
    "        bob_errors.append(bob_loss)\n",
    "        print( 'Training Bob, Epoch:', i + 1, ' error: ', bob_loss)\n",
    "\n",
    "        _, _, eve_loss = _train('eve', iterations, sess)\n",
    "        eve_errors.append(eve_loss)   \n",
    "        print( 'Training Eve, Epoch:', i + 1, ' error: ', eve_loss)\n",
    "\n",
    "\n",
    "def _train(network, iterations, sess):\n",
    "    alice_decrypt_error, bob_decrypt_error, eve_decrypt_error = 1., 1., 1.\n",
    "\n",
    "    bs = batch_size\n",
    "    # Train Eve for two minibatches to give it a slight computational edge\n",
    "    if network == 'eve':\n",
    "        bs *= 2\n",
    "\n",
    "    for i in range(iterations):\n",
    "        msg_in_val, key_val = gen_data(n=bs, msg_len=crypto_msg_len, key_len=crypto_key_len)\n",
    "        feed_dict={msg: msg_in_val, key: key_val}\n",
    "        if network == 'alice':\n",
    "            _, decrypt_err = sess.run([alice_optimizer, decrypt_err_alice], feed_dict = feed_dict)\n",
    "            alice_decrypt_error = min(alice_decrypt_error, decrypt_err)\n",
    "        elif network == 'bob':\n",
    "            _, decrypt_err = sess.run([bob_optimizer, decrypt_err_bob], feed_dict = feed_dict)\n",
    "            bob_decrypt_error = min(bob_decrypt_error, decrypt_err)\n",
    "        elif network == 'eve':\n",
    "            _, decrypt_err = sess.run([eve_optimizer, decrypt_err_eve], feed_dict = feed_dict)\n",
    "            eve_decrypt_error = min(eve_decrypt_error, decrypt_err)\n",
    "\n",
    "    return alice_decrypt_error, bob_decrypt_error, eve_decrypt_error"
   ]
  },
  {
   "cell_type": "markdown",
   "metadata": {},
   "source": [
    "## Neural Cryptography Testing Helper Functions"
   ]
  },
  {
   "cell_type": "markdown",
   "metadata": {},
   "source": [
    "This section of the code takes input and prepares it for the socket communication"
   ]
  },
  {
   "cell_type": "code",
   "execution_count": 6,
   "metadata": {
    "collapsed": false
   },
   "outputs": [
    {
     "name": "stdout",
     "output_type": "stream",
     "text": [
      "Enter some text: abc\n",
      "01100001 01100010 01100011\n",
      "plaintext_to_Alice =  [[ 0.  1.  1.  0.  0.  0.  0.  1.  0.  1.  1.  0.  0.  0.  1.  0.]\n",
      " [ 0.  1.  1.  0.  0.  0.  1.  1.  0.  0.  0.  0.  0.  0.  0.  0.]]\n"
     ]
    }
   ],
   "source": [
    "text = input('Enter some text: ')\n",
    "bintext = ' '.join('{0:08b}'.format(ord(x), 'b') for x in text)\n",
    "print (bintext)\n",
    "b1  = bintext.replace(\" \", \"\")\n",
    "#b1 = b1.zfill(48)\n",
    "pad = len(b1)%16\n",
    "\n",
    "v1 = np.array([])\n",
    "for i in range(0, len(b1)):\n",
    "    v1 = np.append(v1, int(b1[i]))\n",
    "\n",
    "#apply the padding\n",
    "for i in range(0, pad):\n",
    "    v1 = np.append(v1, int(0))\n",
    "total_len = len(b1) + pad\n",
    "\n",
    "plaintext_to_Alice = v1.reshape(int(total_len/16), 16)\n",
    "print('plaintext_to_Alice = ', plaintext_to_Alice)"
   ]
  },
  {
   "cell_type": "markdown",
   "metadata": {},
   "source": [
    "## Socket Communication"
   ]
  },
  {
   "cell_type": "markdown",
   "metadata": {},
   "source": [
    "The user (Alice) inputs a message to send to Bob's socket"
   ]
  },
  {
   "cell_type": "code",
   "execution_count": 7,
   "metadata": {
    "collapsed": true
   },
   "outputs": [],
   "source": [
    "def sock_send(message):\n",
    "    # Create a TCP/IP socket\n",
    "    sock = socket.socket(socket.AF_INET, socket.SOCK_STREAM)\n",
    "    server_address = ('localhost', 10000)\n",
    "    sock.connect(server_address)\n",
    "    #To send data over network, you need to serialize it into an array of bytes,\n",
    "    #then deserialize it back. In Python, serialization of most objects can be done via pickle module:\n",
    "    print('message = ', message)\n",
    "    msg2 = pickle.dumps(message)\n",
    "    #print('msg2 = ', msg2)\n",
    "    sock.send(msg2)"
   ]
  },
  {
   "cell_type": "code",
   "execution_count": 8,
   "metadata": {
    "collapsed": false
   },
   "outputs": [
    {
     "name": "stdout",
     "output_type": "stream",
     "text": [
      "starting up on localhost port 10000\n"
     ]
    }
   ],
   "source": [
    "def sock_recv_init():\n",
    "    # Create a TCP/IP socket\n",
    "    sock = socket.socket(socket.AF_INET, socket.SOCK_STREAM)\n",
    "    # Bind the socket to the port\n",
    "    address = ('localhost', 10000)\n",
    "    print('starting up on %s port %s' % address)\n",
    "    sock.bind(address)\n",
    "    # Listen for incoming connections\n",
    "    sock.listen(1)\n",
    "    return sock\n",
    "\n",
    "def sock_recv(sock):\n",
    "    # Wait for a connection\n",
    "    print( 'waiting for a connection')\n",
    "    connection, client_address = sock.accept()\n",
    "    print('connection from', client_address)\n",
    "    # Receive the data (max 48 bytes)\n",
    "    data = connection.recv(1024*10)\n",
    "    #print('received \"%s\"' % data)\n",
    "    data1 = pickle.loads(data)\n",
    "    print('received ', data1)\n",
    "    return data1\n",
    "\n",
    "sock = sock_recv_init()"
   ]
  },
  {
   "cell_type": "code",
   "execution_count": 9,
   "metadata": {
    "collapsed": false
   },
   "outputs": [],
   "source": [
    "test_file_msg = \"testmsg.txt\"\n",
    "test_file_keys = \"testkey.txt\"\n",
    "\n",
    "def test(network, sess):\n",
    "        alice_decrypt_error, bob_decrypt_error, eve_decrypt_error = 1., 1., 1.\n",
    "        alice_encrypt_time = 0\n",
    "        bob_decrypt_time = 0\n",
    "        bob_output_1 = 0\n",
    "        \n",
    "        #bs = 3 #batch_size\n",
    "        bs = int(total_len/16) #batch_size\n",
    "        messages, keys = gen_data(n=bs, msg_len=crypto_msg_len, key_len=crypto_key_len)\n",
    "        #test message to get the code complete\n",
    "        messages = np.array([\n",
    "                    [1, 0, 0, 1, 0, 0, 0, 1, 1, 0, 0, 1, 0, 1, 1, 1], \n",
    "                    [0, 1, 1, 0, 0, 1, 1, 0, 1, 1, 0, 0, 1, 1, 0, 1],\n",
    "                    [1, 1, 1, 1, 0, 1, 1, 0, 0, 1, 0, 0, 0, 0, 0, 1]\n",
    "                   ])\n",
    "\n",
    "\n",
    "        #feed_dict={msg: messages, key: keys}\n",
    "        feed_dict={msg: plaintext_to_Alice, key: keys}\n",
    "\n",
    "        print( 'messages = \\n', plaintext_to_Alice)\n",
    "        print( 'keys = \\n', keys)\n",
    "\n",
    "        if network == 'alice':\n",
    "            print('plaintext_to_Alice = ', plaintext_to_Alice)\n",
    "            start_time = time.time()\n",
    "            _, decrypt_err, alice_output_1  = sess.run([alice_optimizer, decrypt_err_alice, alice_output], feed_dict = feed_dict)\n",
    "            end_time = time.time()\n",
    "            alice_encrypt_time = end_time-start_time\n",
    "            print('test alice_output (***Cipher Text***) = \\n', alice_output_1)       \n",
    "            alice_decrypt_error = min(alice_decrypt_error, decrypt_err)\n",
    "            print('SOCK_SEND')\n",
    "            sock_send(alice_output_1)\n",
    "        elif network == 'bob':\n",
    "            print('SOCKET_RECV ==== \\n')\n",
    "            messages_sock = sock_recv(sock)\n",
    "            print(messages_sock)\n",
    "            feed_dict1 = {msg: messages_sock, key: keys}\n",
    "            start_time = time.time()\n",
    "            _, decrypt_err, bob_input_1, bob_output_1 = sess.run([bob_optimizer, decrypt_err_bob, bob_input, bob_output], feed_dict = feed_dict1)\n",
    "            end_time = time.time()\n",
    "            bob_decrypt_time = end_time-start_time\n",
    "            bob_input_1 = np.round(bob_input_1, 2)\n",
    "            bob_ouput_1 = np.round(bob_output_1, 2)\n",
    "            \n",
    "            print('test bob_input (***Cipher Text***) = \\n', bob_input_1, 2)       \n",
    "            print('test bob_output (***Plain Text***)= \\n',  bob_output_1, 2)       \n",
    "            bob_decrypt_error = min(bob_decrypt_error, decrypt_err)\n",
    "        elif network == 'eve':\n",
    "            _, decrypt_err = sess.run([eve_optimizer, decrypt_err_eve], feed_dict = feed_dict)\n",
    "            eve_decrypt_error = min(eve_decrypt_error, decrypt_err)\n",
    "\n",
    "        return alice_decrypt_error, alice_encrypt_time, bob_decrypt_error, bob_decrypt_time, bob_output_1, eve_decrypt_error"
   ]
  },
  {
   "cell_type": "markdown",
   "metadata": {},
   "source": [
    "The following code is the plot helper function. The plots demonstrate the decryption errors of the three parties per epoch when training the CNN and illustrate whether Eve was able to converge with Alice and Bob.  "
   ]
  },
  {
   "cell_type": "code",
   "execution_count": 10,
   "metadata": {
    "collapsed": false
   },
   "outputs": [],
   "source": [
    "%matplotlib inline\n",
    "\n",
    "def plot_results():\n",
    "    \"\"\"\n",
    "    Plot Lowest Decryption Errors achieved by Alice, Bob, and Eve per epoch\n",
    "    \"\"\"\n",
    "    sns.set_style(\"darkgrid\")\n",
    "    plt.plot(alice_errors)\n",
    "    plt.plot(bob_errors)\n",
    "    plt.plot(eve_errors)\n",
    "    plt.legend(['alice', 'bob', 'eve'])\n",
    "    plt.xlabel('Epoch')\n",
    "    plt.ylabel('Lowest Decryption error achieved')\n",
    "    plt.show()"
   ]
  },
  {
   "cell_type": "markdown",
   "metadata": {
    "collapsed": false
   },
   "source": [
    "# TensorFlow Session "
   ]
  },
  {
   "cell_type": "markdown",
   "metadata": {},
   "source": [
    "## Training"
   ]
  },
  {
   "cell_type": "code",
   "execution_count": 11,
   "metadata": {
    "collapsed": false,
    "scrolled": false
   },
   "outputs": [
    {
     "name": "stdout",
     "output_type": "stream",
     "text": [
      "Starting Training Process... \n",
      "Training Alice, Epoch: 1  error:  0.0280805\n",
      "Training Bob, Epoch: 1  error:  0.0281553\n",
      "Training Eve, Epoch: 1  error:  0.487395\n",
      "Training Alice, Epoch: 2  error:  0.0276304\n",
      "Training Bob, Epoch: 2  error:  0.0267888\n",
      "Training Eve, Epoch: 2  error:  0.485718\n",
      "Training Alice, Epoch: 3  error:  0.0263653\n",
      "Training Bob, Epoch: 3  error:  0.0277089\n",
      "Training Eve, Epoch: 3  error:  0.484802\n",
      "Training Alice, Epoch: 4  error:  0.0267609\n",
      "Training Bob, Epoch: 4  error:  0.0266388\n",
      "Training Eve, Epoch: 4  error:  0.486938\n",
      "Training Alice, Epoch: 5  error:  0.026745\n",
      "Training Bob, Epoch: 5  error:  0.0270468\n",
      "Training Eve, Epoch: 5  error:  0.487122\n",
      "Training Alice, Epoch: 6  error:  0.0264922\n",
      "Training Bob, Epoch: 6  error:  0.0276856\n",
      "Training Eve, Epoch: 6  error:  0.487122\n",
      "Training Alice, Epoch: 7  error:  0.0273449\n",
      "Training Bob, Epoch: 7  error:  0.0267432\n",
      "Training Eve, Epoch: 7  error:  0.486572\n",
      "Training Alice, Epoch: 8  error:  0.0263675\n",
      "Training Bob, Epoch: 8  error:  0.0265518\n",
      "Training Eve, Epoch: 8  error:  0.487366\n",
      "Training Alice, Epoch: 9  error:  0.0261232\n",
      "Training Bob, Epoch: 9  error:  0.026345\n",
      "Training Eve, Epoch: 9  error:  0.489258\n",
      "Training Alice, Epoch: 10  error:  0.026001\n",
      "Training Bob, Epoch: 10  error:  0.0262542\n",
      "Training Eve, Epoch: 10  error:  0.486389\n",
      "Training Alice, Epoch: 11  error:  0.0272217\n",
      "Training Bob, Epoch: 11  error:  0.0270999\n",
      "Training Eve, Epoch: 11  error:  0.48584\n",
      "Training Alice, Epoch: 12  error:  0.0267334\n",
      "Training Bob, Epoch: 12  error:  0.0262887\n",
      "Training Eve, Epoch: 12  error:  0.487915\n",
      "Training Alice, Epoch: 13  error:  0.0264893\n",
      "Training Bob, Epoch: 13  error:  0.0262054\n",
      "Training Eve, Epoch: 13  error:  0.486084\n",
      "Training Alice, Epoch: 14  error:  0.0263672\n",
      "Training Bob, Epoch: 14  error:  0.0266992\n",
      "Training Eve, Epoch: 14  error:  0.487244\n",
      "Training Alice, Epoch: 15  error:  0.0269775\n",
      "Training Bob, Epoch: 15  error:  0.0264892\n",
      "Training Eve, Epoch: 15  error:  0.484497\n",
      "Training Alice, Epoch: 16  error:  0.0263672\n",
      "Training Bob, Epoch: 16  error:  0.0263673\n",
      "Training Eve, Epoch: 16  error:  0.486755\n",
      "Training Alice, Epoch: 17  error:  0.0252686\n",
      "Training Bob, Epoch: 17  error:  0.0267336\n",
      "Training Eve, Epoch: 17  error:  0.487122\n",
      "Training Alice, Epoch: 18  error:  0.0266113\n",
      "Training Bob, Epoch: 18  error:  0.026931\n",
      "Training Eve, Epoch: 18  error:  0.487244\n",
      "Training Alice, Epoch: 19  error:  0.0262451\n",
      "Training Bob, Epoch: 19  error:  0.0271882\n",
      "Training Eve, Epoch: 19  error:  0.48877\n",
      "Training Alice, Epoch: 20  error:  0.0268555\n",
      "Training Bob, Epoch: 20  error:  0.0267214\n",
      "Training Eve, Epoch: 20  error:  0.485962\n",
      "Training Alice, Epoch: 21  error:  0.0263672\n",
      "Training Bob, Epoch: 21  error:  0.0263789\n",
      "Training Eve, Epoch: 21  error:  0.486633\n",
      "Training Alice, Epoch: 22  error:  0.0268555\n",
      "Training Bob, Epoch: 22  error:  0.0269634\n",
      "Training Eve, Epoch: 22  error:  0.487976\n",
      "Training Alice, Epoch: 23  error:  0.0264893\n",
      "Training Bob, Epoch: 23  error:  0.0260646\n",
      "Training Eve, Epoch: 23  error:  0.48761\n",
      "Training Alice, Epoch: 24  error:  0.0272217\n",
      "Training Bob, Epoch: 24  error:  0.0267203\n",
      "Training Eve, Epoch: 24  error:  0.483643\n",
      "Training Alice, Epoch: 25  error:  0.0262451\n",
      "Training Bob, Epoch: 25  error:  0.0262452\n",
      "Training Eve, Epoch: 25  error:  0.486267\n",
      "Training Alice, Epoch: 26  error:  0.0253906\n",
      "Training Bob, Epoch: 26  error:  0.0245362\n",
      "Training Eve, Epoch: 26  error:  0.487183\n",
      "Training Alice, Epoch: 27  error:  0.0249023\n",
      "Training Bob, Epoch: 27  error:  0.0264893\n",
      "Training Eve, Epoch: 27  error:  0.487061\n",
      "Training Alice, Epoch: 28  error:  0.0262451\n",
      "Training Bob, Epoch: 28  error:  0.0269776\n",
      "Training Eve, Epoch: 28  error:  0.484009\n",
      "Training Alice, Epoch: 29  error:  0.0270996\n",
      "Training Bob, Epoch: 29  error:  0.0269776\n",
      "Training Eve, Epoch: 29  error:  0.487854\n",
      "Training Alice, Epoch: 30  error:  0.0268555\n",
      "Training Bob, Epoch: 30  error:  0.0268555\n",
      "Training Eve, Epoch: 30  error:  0.482056\n",
      "Training Alice, Epoch: 31  error:  0.0255127\n",
      "Training Bob, Epoch: 31  error:  0.0264785\n",
      "Training Eve, Epoch: 31  error:  0.487976\n",
      "Training Alice, Epoch: 32  error:  0.0266113\n",
      "Training Bob, Epoch: 32  error:  0.0263336\n",
      "Training Eve, Epoch: 32  error:  0.48761\n",
      "Training Alice, Epoch: 33  error:  0.0267334\n",
      "Training Bob, Epoch: 33  error:  0.0269775\n",
      "Training Eve, Epoch: 33  error:  0.486877\n",
      "Training Alice, Epoch: 34  error:  0.0269775\n",
      "Training Bob, Epoch: 34  error:  0.0258789\n",
      "Training Eve, Epoch: 34  error:  0.487\n",
      "Training Alice, Epoch: 35  error:  0.0266113\n",
      "Training Bob, Epoch: 35  error:  0.0264893\n",
      "Training Eve, Epoch: 35  error:  0.488037\n",
      "Training Alice, Epoch: 36  error:  0.0266113\n",
      "Training Bob, Epoch: 36  error:  0.0269776\n",
      "Training Eve, Epoch: 36  error:  0.487549\n",
      "Training Alice, Epoch: 37  error:  0.0258789\n",
      "Training Bob, Epoch: 37  error:  0.0268555\n",
      "Training Eve, Epoch: 37  error:  0.486816\n",
      "Training Alice, Epoch: 38  error:  0.0267334\n",
      "Training Bob, Epoch: 38  error:  0.0266113\n",
      "Training Eve, Epoch: 38  error:  0.484741\n",
      "Training Alice, Epoch: 39  error:  0.0264893\n",
      "Training Bob, Epoch: 39  error:  0.0267334\n",
      "Training Eve, Epoch: 39  error:  0.486023\n",
      "Training Alice, Epoch: 40  error:  0.0257568\n",
      "Training Bob, Epoch: 40  error:  0.0273438\n",
      "Training Eve, Epoch: 40  error:  0.486816\n",
      "Training Alice, Epoch: 41  error:  0.0267334\n",
      "Training Bob, Epoch: 41  error:  0.0267334\n",
      "Training Eve, Epoch: 41  error:  0.48761\n",
      "Training Alice, Epoch: 42  error:  0.0268555\n",
      "Training Bob, Epoch: 42  error:  0.0263672\n",
      "Training Eve, Epoch: 42  error:  0.486694\n",
      "Training Alice, Epoch: 43  error:  0.0269775\n",
      "Training Bob, Epoch: 43  error:  0.0263672\n",
      "Training Eve, Epoch: 43  error:  0.486023\n",
      "Training Alice, Epoch: 44  error:  0.0264893\n",
      "Training Bob, Epoch: 44  error:  0.0268555\n",
      "Training Eve, Epoch: 44  error:  0.487366\n",
      "Training Alice, Epoch: 45  error:  0.0267334\n",
      "Training Bob, Epoch: 45  error:  0.0272217\n",
      "Training Eve, Epoch: 45  error:  0.486633\n",
      "Training Alice, Epoch: 46  error:  0.0260013\n",
      "Training Bob, Epoch: 46  error:  0.0263672\n",
      "Training Eve, Epoch: 46  error:  0.488525\n",
      "Training Alice, Epoch: 47  error:  0.0266113\n",
      "Training Bob, Epoch: 47  error:  0.0270996\n",
      "Training Eve, Epoch: 47  error:  0.488281\n",
      "Training Alice, Epoch: 48  error:  0.0258789\n",
      "Training Bob, Epoch: 48  error:  0.0269775\n",
      "Training Eve, Epoch: 48  error:  0.486938\n",
      "Training Alice, Epoch: 49  error:  0.0267334\n",
      "Training Bob, Epoch: 49  error:  0.025879\n",
      "Training Eve, Epoch: 49  error:  0.487549\n",
      "Training Alice, Epoch: 50  error:  0.0264893\n",
      "Training Bob, Epoch: 50  error:  0.0263672\n",
      "Training Eve, Epoch: 50  error:  0.487244\n",
      "Training Alice, Epoch: 51  error:  0.0267334\n",
      "Training Bob, Epoch: 51  error:  0.0268555\n",
      "Training Eve, Epoch: 51  error:  0.48645\n",
      "Training Alice, Epoch: 52  error:  0.0268555\n",
      "Training Bob, Epoch: 52  error:  0.0270996\n",
      "Training Eve, Epoch: 52  error:  0.483826\n",
      "Training Alice, Epoch: 53  error:  0.0258789\n",
      "Training Bob, Epoch: 53  error:  0.0268555\n",
      "Training Eve, Epoch: 53  error:  0.485474\n",
      "Training Alice, Epoch: 54  error:  0.026123\n",
      "Training Bob, Epoch: 54  error:  0.0263672\n",
      "Training Eve, Epoch: 54  error:  0.486023\n",
      "Training Alice, Epoch: 55  error:  0.0268555\n",
      "Training Bob, Epoch: 55  error:  0.026123\n",
      "Training Eve, Epoch: 55  error:  0.487244\n",
      "Training Alice, Epoch: 56  error:  0.0264893\n",
      "Training Bob, Epoch: 56  error:  0.0269775\n",
      "Training Eve, Epoch: 56  error:  0.487183\n",
      "Training Alice, Epoch: 57  error:  0.0264893\n",
      "Training Bob, Epoch: 57  error:  0.0266113\n",
      "Training Eve, Epoch: 57  error:  0.487793\n",
      "Training Alice, Epoch: 58  error:  0.0268555\n",
      "Training Bob, Epoch: 58  error:  0.0268555\n",
      "Training Eve, Epoch: 58  error:  0.485657\n",
      "Training Alice, Epoch: 59  error:  0.0258789\n",
      "Training Bob, Epoch: 59  error:  0.026123\n",
      "Training Eve, Epoch: 59  error:  0.487549\n",
      "Training Alice, Epoch: 60  error:  0.0264893\n",
      "Training Bob, Epoch: 60  error:  0.0273438\n",
      "Training Eve, Epoch: 60  error:  0.486206\n",
      "Training Alice, Epoch: 61  error:  0.026001\n",
      "Training Bob, Epoch: 61  error:  0.0264893\n",
      "Training Eve, Epoch: 61  error:  0.487793\n",
      "Training Alice, Epoch: 62  error:  0.0268555\n",
      "Training Bob, Epoch: 62  error:  0.0272217\n",
      "Training Eve, Epoch: 62  error:  0.486572\n",
      "Training Alice, Epoch: 63  error:  0.026123\n",
      "Training Bob, Epoch: 63  error:  0.0268555\n",
      "Training Eve, Epoch: 63  error:  0.487366\n",
      "Training Alice, Epoch: 64  error:  0.0270996\n",
      "Training Bob, Epoch: 64  error:  0.0260012\n",
      "Training Eve, Epoch: 64  error:  0.48645\n",
      "Training Alice, Epoch: 65  error:  0.0268555\n",
      "Training Bob, Epoch: 65  error:  0.0263672\n",
      "Training Eve, Epoch: 65  error:  0.483948\n",
      "Training Alice, Epoch: 66  error:  0.0263672\n",
      "Training Bob, Epoch: 66  error:  0.0265015\n",
      "Training Eve, Epoch: 66  error:  0.487854\n",
      "Training Alice, Epoch: 67  error:  0.0264893\n",
      "Training Bob, Epoch: 67  error:  0.0256348\n",
      "Training Eve, Epoch: 67  error:  0.487427\n",
      "Training Alice, Epoch: 68  error:  0.0267334\n",
      "Training Bob, Epoch: 68  error:  0.0261247\n",
      "Training Eve, Epoch: 68  error:  0.487183\n",
      "Training Alice, Epoch: 69  error:  0.0264893\n",
      "Training Bob, Epoch: 69  error:  0.0269775\n",
      "Training Eve, Epoch: 69  error:  0.486755\n",
      "Training Alice, Epoch: 70  error:  0.0264893\n",
      "Training Bob, Epoch: 70  error:  0.0257943\n",
      "Training Eve, Epoch: 70  error:  0.484985\n",
      "Training Alice, Epoch: 71  error:  0.0245361\n",
      "Training Bob, Epoch: 71  error:  0.0257568\n",
      "Training Eve, Epoch: 71  error:  0.485962\n",
      "Training Alice, Epoch: 72  error:  0.0264893\n",
      "Training Bob, Epoch: 72  error:  0.0263672\n",
      "Training Eve, Epoch: 72  error:  0.485962\n",
      "Training Alice, Epoch: 73  error:  0.0264893\n",
      "Training Bob, Epoch: 73  error:  0.0267334\n",
      "Training Eve, Epoch: 73  error:  0.48938\n",
      "Training Alice, Epoch: 74  error:  0.0270996\n",
      "Training Bob, Epoch: 74  error:  0.026001\n",
      "Training Eve, Epoch: 74  error:  0.48645\n",
      "Training Alice, Epoch: 75  error:  0.0256348\n",
      "Training Bob, Epoch: 75  error:  0.0255216\n",
      "Training Eve, Epoch: 75  error:  0.485962\n",
      "Training Alice, Epoch: 76  error:  0.0269775\n",
      "Training Bob, Epoch: 76  error:  0.0267334\n",
      "Training Eve, Epoch: 76  error:  0.484863\n",
      "Training Alice, Epoch: 77  error:  0.0264893\n",
      "Training Bob, Epoch: 77  error:  0.0268011\n",
      "Training Eve, Epoch: 77  error:  0.486694\n",
      "Training Alice, Epoch: 78  error:  0.0263672\n",
      "Training Bob, Epoch: 78  error:  0.025467\n",
      "Training Eve, Epoch: 78  error:  0.486816\n",
      "Training Alice, Epoch: 79  error:  0.0268555\n",
      "Training Bob, Epoch: 79  error:  0.0262884\n",
      "Training Eve, Epoch: 79  error:  0.485657\n",
      "Training Alice, Epoch: 80  error:  0.0263672\n",
      "Training Bob, Epoch: 80  error:  0.026446\n",
      "Training Eve, Epoch: 80  error:  0.487976\n",
      "Training Alice, Epoch: 81  error:  0.026123\n",
      "Training Bob, Epoch: 81  error:  0.0265666\n",
      "Training Eve, Epoch: 81  error:  0.483948\n",
      "Training Alice, Epoch: 82  error:  0.0268555\n",
      "Training Bob, Epoch: 82  error:  0.0263183\n",
      "Training Eve, Epoch: 82  error:  0.487305\n",
      "Training Alice, Epoch: 83  error:  0.0263672\n",
      "Training Bob, Epoch: 83  error:  0.0258938\n",
      "Training Eve, Epoch: 83  error:  0.487305\n",
      "Training Alice, Epoch: 84  error:  0.0255127\n",
      "Training Bob, Epoch: 84  error:  0.0268555\n",
      "Training Eve, Epoch: 84  error:  0.486206\n",
      "Training Alice, Epoch: 85  error:  0.0266113\n",
      "Training Bob, Epoch: 85  error:  0.0266113\n",
      "Training Eve, Epoch: 85  error:  0.487061\n",
      "Training Alice, Epoch: 86  error:  0.0257568\n",
      "Training Bob, Epoch: 86  error:  0.0262451\n",
      "Training Eve, Epoch: 86  error:  0.487427\n",
      "Training Alice, Epoch: 87  error:  0.026001\n",
      "Training Bob, Epoch: 87  error:  0.0250244\n",
      "Training Eve, Epoch: 87  error:  0.486694\n",
      "Training Alice, Epoch: 88  error:  0.0262451\n",
      "Training Bob, Epoch: 88  error:  0.0266113\n",
      "Training Eve, Epoch: 88  error:  0.487915\n",
      "Training Alice, Epoch: 89  error:  0.026001\n",
      "Training Bob, Epoch: 89  error:  0.0262451\n",
      "Training Eve, Epoch: 89  error:  0.485901\n",
      "Training Alice, Epoch: 90  error:  0.0258789\n",
      "Training Bob, Epoch: 90  error:  0.0264893\n",
      "Training Eve, Epoch: 90  error:  0.484924\n",
      "Training Alice, Epoch: 91  error:  0.0267334\n",
      "Training Bob, Epoch: 91  error:  0.0263672\n",
      "Training Eve, Epoch: 91  error:  0.485657\n",
      "Training Alice, Epoch: 92  error:  0.0268555\n",
      "Training Bob, Epoch: 92  error:  0.0270996\n",
      "Training Eve, Epoch: 92  error:  0.487976\n",
      "Training Alice, Epoch: 93  error:  0.0268555\n",
      "Training Bob, Epoch: 93  error:  0.0269775\n",
      "Training Eve, Epoch: 93  error:  0.486389\n",
      "Training Alice, Epoch: 94  error:  0.0268555\n",
      "Training Bob, Epoch: 94  error:  0.0263672\n",
      "Training Eve, Epoch: 94  error:  0.485474\n",
      "Training Alice, Epoch: 95  error:  0.0268555\n",
      "Training Bob, Epoch: 95  error:  0.0258789\n",
      "Training Eve, Epoch: 95  error:  0.485046\n",
      "Training Alice, Epoch: 96  error:  0.026001\n",
      "Training Bob, Epoch: 96  error:  0.026123\n",
      "Training Eve, Epoch: 96  error:  0.487793\n",
      "Training Alice, Epoch: 97  error:  0.0269775\n",
      "Training Bob, Epoch: 97  error:  0.0267334\n",
      "Training Eve, Epoch: 97  error:  0.485046\n",
      "Training Alice, Epoch: 98  error:  0.0267334\n",
      "Training Bob, Epoch: 98  error:  0.0262451\n",
      "Training Eve, Epoch: 98  error:  0.486633\n",
      "Training Alice, Epoch: 99  error:  0.0263672\n",
      "Training Bob, Epoch: 99  error:  0.0268555\n",
      "Training Eve, Epoch: 99  error:  0.487488\n",
      "Training Alice, Epoch: 100  error:  0.0272217\n",
      "Training Bob, Epoch: 100  error:  0.0268555\n",
      "Training Eve, Epoch: 100  error:  0.485779\n",
      "Time taken for Training (seconds):  6623.362278223038\n"
     ]
    },
    {
     "data": {
      "image/png": "[encoded data removed]",
      "text/plain": [
       "<matplotlib.figure.Figure at 0x7feec42b5320>"
      ]
     },
     "metadata": {},
     "output_type": "display_data"
    },
    {
     "name": "stdout",
     "output_type": "stream",
     "text": [
      "alice_errors_train =  [0.028080454, 0.027630437, 0.02636526, 0.026760923, 0.026745038, 0.026492171, 0.027344916, 0.026367491, 0.026123162, 0.026001001, 0.027221691, 0.0267334, 0.026489258, 0.026367188, 0.026977539, 0.026367188, 0.025268573, 0.026611343, 0.026245119, 0.026855469, 0.026367188, 0.026855469, 0.026489258, 0.02722168, 0.026245117, 0.025390625, 0.024902344, 0.026245117, 0.027099609, 0.026855469, 0.025512695, 0.026611328, 0.026733398, 0.026977539, 0.026611328, 0.026611328, 0.025878906, 0.026733398, 0.026489258, 0.025756836, 0.026733398, 0.026855469, 0.026977539, 0.026489258, 0.026733398, 0.026001301, 0.02661133, 0.025878906, 0.026733398, 0.026489258, 0.026733398, 0.026855469, 0.025878906, 0.026123047, 0.026855469, 0.026489258, 0.026489258, 0.026855469, 0.025878906, 0.026489258, 0.026000977, 0.026855469, 0.026123047, 0.027099609, 0.026855469, 0.026367188, 0.026489258, 0.026733398, 0.026489258, 0.026489258, 0.024536133, 0.026489258, 0.026489258, 0.027099609, 0.025634766, 0.026977539, 0.026489258, 0.026367188, 0.026855469, 0.026367188, 0.026123047, 0.026855469, 0.026367188, 0.025512695, 0.026611328, 0.025756836, 0.026000977, 0.026245117, 0.026000977, 0.025878906, 0.026733398, 0.026855469, 0.026855469, 0.026855469, 0.026855469, 0.026000977, 0.026977539, 0.026733398, 0.026367188, 0.02722168]\n",
      "bob_errors_train =  [0.028155325, 0.02678881, 0.027708886, 0.026638811, 0.0270468, 0.027685609, 0.026743229, 0.026551824, 0.026344988, 0.026254183, 0.02709992, 0.026288677, 0.026205435, 0.026699239, 0.026489187, 0.026367275, 0.026733566, 0.026930975, 0.027188167, 0.026721423, 0.026378885, 0.026963448, 0.026064619, 0.026720302, 0.026245201, 0.024536166, 0.02648926, 0.026977561, 0.026977558, 0.026855474, 0.026478469, 0.026333619, 0.026977543, 0.02587891, 0.026489297, 0.026977586, 0.026855478, 0.026611332, 0.026733398, 0.027343754, 0.026733398, 0.026367189, 0.026367189, 0.026855469, 0.027221682, 0.026367188, 0.027099615, 0.026977539, 0.025878953, 0.026367188, 0.026855469, 0.027099609, 0.026855469, 0.026367188, 0.026123047, 0.026977539, 0.02661133, 0.026855471, 0.026123047, 0.02734375, 0.026489258, 0.02722168, 0.026855469, 0.026001154, 0.026367189, 0.026501525, 0.025634766, 0.026124656, 0.026977539, 0.025794273, 0.025756836, 0.026367188, 0.026733398, 0.026000977, 0.025521632, 0.026733398, 0.026801128, 0.025466971, 0.026288427, 0.026445968, 0.026566587, 0.026318273, 0.025893822, 0.026855469, 0.026611332, 0.02624513, 0.02502442, 0.026611332, 0.026245127, 0.026489265, 0.026367189, 0.027099609, 0.026977541, 0.026367193, 0.02587891, 0.026123049, 0.026733398, 0.026245119, 0.026855469, 0.026855469]\n",
      "eve_errors_train =  [0.48739484, 0.48571777, 0.48480225, 0.48693848, 0.48712158, 0.48712158, 0.48657227, 0.48736572, 0.48925781, 0.48638916, 0.48583984, 0.48791504, 0.48608398, 0.48724365, 0.48449707, 0.48675537, 0.48712158, 0.48724365, 0.48876953, 0.48596191, 0.4866333, 0.48797607, 0.48760986, 0.48364258, 0.48626709, 0.48718262, 0.48706055, 0.48400879, 0.487854, 0.48205566, 0.48797607, 0.48760986, 0.48687744, 0.48699951, 0.48803711, 0.48754883, 0.48681641, 0.48474121, 0.48602295, 0.48681641, 0.48760986, 0.48669434, 0.48602295, 0.48736572, 0.4866333, 0.48852539, 0.48828125, 0.48693848, 0.48754883, 0.48724365, 0.4864502, 0.48382568, 0.48547363, 0.48602295, 0.48724365, 0.48718262, 0.48779297, 0.48565674, 0.48754883, 0.48620605, 0.48779297, 0.48657227, 0.48736572, 0.4864502, 0.48394775, 0.487854, 0.48742676, 0.48718262, 0.48675537, 0.48498535, 0.48596191, 0.48596191, 0.48937988, 0.4864502, 0.48596191, 0.48486328, 0.48669434, 0.48681641, 0.48565674, 0.48797607, 0.48394775, 0.48730469, 0.48730469, 0.48620605, 0.48706055, 0.48742676, 0.48669434, 0.48791504, 0.48590088, 0.48492432, 0.48565674, 0.48797607, 0.48638916, 0.48547363, 0.48504639, 0.48779297, 0.48504639, 0.4866333, 0.48748779, 0.48577881]\n"
     ]
    }
   ],
   "source": [
    "import time\n",
    "epochs = 100\n",
    "#sess = tf.InteractiveSession()\n",
    "sess = tf.Session()\n",
    "\n",
    "#with tf.Session() as sess:\n",
    "print('Starting Training Process... ')\n",
    "start_time = time.time()\n",
    "train(sess)\n",
    "end_time = time.time()\n",
    "print('Time taken for Training (seconds): ', end_time-start_time)\n",
    "plot_results()\n",
    "\n",
    "print('alice_errors_train = ', alice_errors)\n",
    "print('bob_errors_train = ', bob_errors)\n",
    "print('eve_errors_train = ', eve_errors)\n"
   ]
  },
  {
   "cell_type": "markdown",
   "metadata": {},
   "source": [
    "## Testing "
   ]
  },
  {
   "cell_type": "markdown",
   "metadata": {},
   "source": [
    "The above section of the code for training the CNN does not have to be rerun if the user decides to input another message."
   ]
  },
  {
   "cell_type": "code",
   "execution_count": 12,
   "metadata": {
    "collapsed": false,
    "scrolled": false
   },
   "outputs": [
    {
     "name": "stdout",
     "output_type": "stream",
     "text": [
      "Testing Alice\n",
      "messages = \n",
      " [[ 0.  1.  1.  0.  0.  0.  0.  1.  0.  1.  1.  0.  0.  0.  1.  0.]\n",
      " [ 0.  1.  1.  0.  0.  0.  1.  1.  0.  0.  0.  0.  0.  0.  0.  0.]]\n",
      "keys = \n",
      " [[0 1 1 1 1 0 1 1 1 1 0 0 1 0 1 0]\n",
      " [0 1 0 1 1 0 0 0 0 0 1 1 0 1 1 0]]\n",
      "plaintext_to_Alice =  [[ 0.  1.  1.  0.  0.  0.  0.  1.  0.  1.  1.  0.  0.  0.  1.  0.]\n",
      " [ 0.  1.  1.  0.  0.  0.  1.  1.  0.  0.  0.  0.  0.  0.  0.  0.]]\n",
      "test alice_output (***Cipher Text***) = \n",
      " [[ 0.  1.  1.  0.  0.  0.  0.  1.  0.  1.  1.  0.  0.  0.  1.  0.]\n",
      " [ 0.  1.  1.  0.  0.  0.  1.  1.  0.  0.  0.  0.  0.  0.  0.  0.]]\n",
      "SOCK_SEND\n",
      "message =  [[ 0.  1.  1.  0.  0.  0.  0.  1.  0.  1.  1.  0.  0.  0.  1.  0.]\n",
      " [ 0.  1.  1.  0.  0.  0.  1.  1.  0.  0.  0.  0.  0.  0.  0.  0.]]\n",
      "alice_errors_test =  0.0\n",
      "Testing Bob\n",
      "messages = \n",
      " [[ 0.  1.  1.  0.  0.  0.  0.  1.  0.  1.  1.  0.  0.  0.  1.  0.]\n",
      " [ 0.  1.  1.  0.  0.  0.  1.  1.  0.  0.  0.  0.  0.  0.  0.  0.]]\n",
      "keys = \n",
      " [[0 0 1 1 0 1 1 1 0 1 0 0 0 1 1 1]\n",
      " [0 0 1 1 0 0 1 0 1 1 0 1 0 0 1 1]]\n",
      "SOCKET_RECV ==== \n",
      "\n",
      "waiting for a connection\n",
      "connection from ('127.0.0.1', 49548)\n",
      "received  [[ 0.  1.  1.  0.  0.  0.  0.  1.  0.  1.  1.  0.  0.  0.  1.  0.]\n",
      " [ 0.  1.  1.  0.  0.  0.  1.  1.  0.  0.  0.  0.  0.  0.  0.  0.]]\n",
      "[[ 0.  1.  1.  0.  0.  0.  0.  1.  0.  1.  1.  0.  0.  0.  1.  0.]\n",
      " [ 0.  1.  1.  0.  0.  0.  1.  1.  0.  0.  0.  0.  0.  0.  0.  0.]]\n",
      "test bob_input (***Cipher Text***) = \n",
      " [[ 0.  1.  1.  0.  0.  0.  0.  1.  0.  1.  1.  0.  0.  0.  1.  0.  0.  0.\n",
      "   1.  1.  0.  1.  1.  1.  0.  1.  0.  0.  0.  1.  1.  1.]\n",
      " [ 0.  1.  1.  0.  0.  0.  1.  1.  0.  0.  0.  0.  0.  0.  0.  0.  0.  0.\n",
      "   1.  1.  0.  0.  1.  0.  1.  1.  0.  1.  0.  0.  1.  1.]] 2\n",
      "test bob_output (***Plain Text***)= \n",
      " [[ 0.  1.  1.  0.  0.  0.  0.  1.  0.  1.  1.  0.  0.  0.  1.  0.]\n",
      " [ 0.  1.  1.  0.  0.  0.  1.  1.  0.  0.  0.  0.  0.  0.  0.  0.]] 2\n",
      "bob_errors_test =  0.0\n",
      "Testing Eve\n",
      "messages = \n",
      " [[ 0.  1.  1.  0.  0.  0.  0.  1.  0.  1.  1.  0.  0.  0.  1.  0.]\n",
      " [ 0.  1.  1.  0.  0.  0.  1.  1.  0.  0.  0.  0.  0.  0.  0.  0.]]\n",
      "keys = \n",
      " [[0 1 0 1 0 1 1 1 1 1 1 0 1 1 0 0]\n",
      " [1 0 1 1 1 1 1 0 0 0 1 1 1 1 1 1]]\n",
      "eve_errors_test =  0.3125\n",
      "Time taken for Testing (seconds):  0.053194522857666016\n",
      "bob_ouput_1 ==  [ 0.  1.  1.  0.  0.  0.  0.  1.  0.  1.  1.  0.  0.  0.  1.  0.  0.  1.\n",
      "  1.  0.  0.  0.  1.  1.  0.  0.  0.  0.  0.  0.  0.  0.]\n",
      "\n",
      "\n",
      "b2 =  0b01100001011000100110001100000000\n",
      "abc\u0000\n",
      "Bob recovered Plain Text =  abc\u0000\n"
     ]
    }
   ],
   "source": [
    "import binascii\n",
    "\n",
    "#Test the Neural Crypto model\n",
    "start_time = time.time()\n",
    "print( 'Testing Alice' )\n",
    "alice_loss_test, alice_encrypt_time, _, _, _,_ = test('alice', sess)\n",
    "print('alice_errors_test = ', alice_loss_test)\n",
    "print( 'Testing Bob' )\n",
    "_,_, bob_loss_test, bob_decrypt_time, bob_output_1,_ = test('bob', sess)\n",
    "print('bob_errors_test = ', bob_loss_test)    \n",
    "print( 'Testing Eve' )\n",
    "_, _,_,_,_,eve_loss_test = test('eve', sess)\n",
    "print('eve_errors_test = ', eve_loss_test)\n",
    "end_time = time.time()\n",
    "print('Time taken for Testing (seconds): ', end_time-start_time)\n",
    "#convert to ASCII\n",
    "b1 = np.round(bob_output_1, 1)\n",
    "b1 = b1.ravel();\n",
    "b1 = np.abs(b1)\n",
    "print('bob_ouput_1 == ', b1)\n",
    "print('\\n')\n",
    "b2  = np.array2string(b1)\n",
    "b2 = b2.strip('[')\n",
    "b2 = b2.strip(']')\n",
    "b2 = b2.replace(\" \", \"\")\n",
    "b2 = b2.replace(\".\", \"\")\n",
    "b2 = b2.replace(\"\\n\", \"\")\n",
    "\n",
    "b2 = '0b'+b2\n",
    "print('b2 = ', b2)\n",
    "n = int(b2,2)\n",
    "str2 = n.to_bytes((n.bit_length() + 7) // 8, 'big').decode(errors='ignore')\n",
    "print(str2)\n",
    "\n",
    "print('Bob recovered Plain Text = ', str2)\n"
   ]
  },
  {
   "cell_type": "markdown",
   "metadata": {
    "collapsed": true
   },
   "source": [
    "## Performance Benchmarking with cryptography.fernet"
   ]
  },
  {
   "cell_type": "markdown",
   "metadata": {},
   "source": [
    "Fernet is an implementation of symmetric encryption. It uses AES for encryption and SHA256 for authentication, with initialization vectors generated using os.urandom(). The following code compares AES to NCA in terms of time."
   ]
  },
  {
   "cell_type": "code",
   "execution_count": null,
   "metadata": {
    "collapsed": true
   },
   "outputs": [],
   "source": [
    "#Install the Cryptography module\n",
    "pip install cryptography"
   ]
  },
  {
   "cell_type": "code",
   "execution_count": 13,
   "metadata": {
    "collapsed": false
   },
   "outputs": [
    {
     "name": "stdout",
     "output_type": "stream",
     "text": [
      "Cryptography.fernet AES Encrypt/Decrypt sessions\n",
      "------------------------------------------------\n",
      "cipher text =  b'gAAAAABYUQDSVJIlzaUJQZwA4avRDLdgEvPHI8xEiSTqvXofV5RaP5Cyq10n-_-H4XfYio8E54njBQNKNVzrWfiQYPIRcy5-BsTz8mEvpBi3AMPQ1UitAeU9rUF5JzekFjCohW46qtGq'\n",
      "plain_text =   b'\\x00\\x01\\x01\\x00\\x00\\x00\\x00\\x01\\x00\\x01\\x01\\x00\\x00\\x00\\x01\\x00\\x00\\x01\\x01\\x00\\x00\\x00\\x01\\x01\\x00\\x00\\x00\\x00\\x00\\x00\\x00\\x00'\n",
      "*********Performance of NCA versus Cryptography.Fernet********************\n",
      "Time taken for Alice to Encrypt the Plain Text (seconds):  0.023770809173583984\n",
      "Time taken for Bob to Decrypt the Cipher Text (seconds):  0.010978460311889648\n",
      "Time taken for Fernet to Encrypt the Plain Text (seconds):  0.0004811286926269531\n",
      "Time taken for Fernet to Decrypt the Cipher Text (seconds):  0.0001995563507080078\n"
     ]
    }
   ],
   "source": [
    "from cryptography.fernet import Fernet\n",
    "key = Fernet.generate_key()\n",
    "cipher_suite = Fernet(key)\n",
    "#Preprocess the array from input block above\n",
    "v2 = []\n",
    "for i in range(0, len(b1)):\n",
    "    v2.append(int(b1[i]))\n",
    "    \n",
    "print('Cryptography.fernet AES Encrypt/Decrypt sessions')\n",
    "print('------------------------------------------------')\n",
    "\n",
    "start_time = time.time()\n",
    "cipher_text = cipher_suite.encrypt(bytes(v2))\n",
    "end_time = time.time()\n",
    "fernet_encrypt_time = end_time - start_time\n",
    "print('cipher text = ', cipher_text)\n",
    "\n",
    "start_time = time.time()\n",
    "plain_text = cipher_suite.decrypt(cipher_text)\n",
    "end_time = time.time()\n",
    "fernet_decrypt_time = end_time - start_time\n",
    "print('plain_text =  ', plain_text)\n",
    "\n",
    "print('*********Performance of NCA versus Cryptography.Fernet********************')\n",
    "print('Time taken for Alice to Encrypt the Plain Text (seconds): ', alice_encrypt_time)\n",
    "print('Time taken for Bob to Decrypt the Cipher Text (seconds): ', bob_decrypt_time)\n",
    "\n",
    "print('Time taken for Fernet to Encrypt the Plain Text (seconds): ', fernet_encrypt_time)\n",
    "print('Time taken for Fernet to Decrypt the Cipher Text (seconds): ', fernet_decrypt_time)\n"
   ]
  },
  {
   "cell_type": "markdown",
   "metadata": {},
   "source": [
    "# Conclusion"
   ]
  },
  {
   "cell_type": "markdown",
   "metadata": {
    "collapsed": true
   },
   "source": [
    "I have demonstrated that it is possible to achieve low error rates multiple times with neural networks, despite the fact that CNNs are not consistent. The communication between Alice and Bob was simulated through sockets to demonstrate a real-life application of the CNNs on a TCP/IP network. There are numerous opportunities for NCA, including the possibility of using NCA for secure communication between autonomous IoT devices. Another opportunity for NCA would be for Artificial Intelligence due to its dynamically self-configurable nature and because it can function efficiently in massively parallel processing environments.\n"
   ]
  },
  {
   "cell_type": "markdown",
   "metadata": {},
   "source": [
    "Future Work: The foremost concern is to try and improve the consistency of NCA through further hyperparameter tuning. Future work also includes implementing the sockets over Internet Protocol, instead of localhost. In addition, other goals include implementing Eve and her socket as part of the crypto-pipeline. Tests, such as performance benchmarking, can be performed against AES, SHA-256, and other encryption techniques to assess the strengths and weaknesses of the NCA algorithm for further improvement. \n",
    "\n",
    "Another important field that I would like to explore is the combination of quantum and neural cryptography. Quantum cryptography involves altering the contents of a message in transit as soon as the attacker (Eve) sees it; this guarantees the integrity of the message. For example, quantum cryptography could be used as a potential channel for transmission of messages encrypted through NCA.  "
   ]
  },
  {
   "cell_type": "code",
   "execution_count": null,
   "metadata": {
    "collapsed": true
   },
   "outputs": [],
   "source": []
  }
 ],
 "metadata": {
  "anaconda-cloud": {},
  "kernelspec": {
   "display_name": "Python [default]",
   "language": "python",
   "name": "python3"
  },
  "language_info": {
   "codemirror_mode": {
    "name": "ipython",
    "version": 3
   },
   "file_extension": ".py",
   "mimetype": "text/x-python",
   "name": "python",
   "nbconvert_exporter": "python",
   "pygments_lexer": "ipython3",
   "version": "3.5.2"
  }
 },
 "nbformat": 4,
 "nbformat_minor": 1
}
